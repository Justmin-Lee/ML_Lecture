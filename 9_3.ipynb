{
  "nbformat": 4,
  "nbformat_minor": 0,
  "metadata": {
    "colab": {
      "name": "9-3.ipynb",
      "provenance": [],
      "collapsed_sections": [],
      "authorship_tag": "ABX9TyOqqlsAn7WrQKkFquOObtfn",
      "include_colab_link": true
    },
    "kernelspec": {
      "name": "python3",
      "display_name": "Python 3"
    },
    "language_info": {
      "name": "python"
    }
  },
  "cells": [
    {
      "cell_type": "markdown",
      "metadata": {
        "id": "view-in-github",
        "colab_type": "text"
      },
      "source": [
        "<a href=\"https://colab.research.google.com/github/Justmin-Lee/ML_Lecture/blob/main/9_3.ipynb\" target=\"_parent\"><img src=\"https://colab.research.google.com/assets/colab-badge.svg\" alt=\"Open In Colab\"/></a>"
      ]
    },
    {
      "cell_type": "code",
      "metadata": {
        "id": "K0M9Cn1u8b6z"
      },
      "source": [
        "# include hidden layer (Neural Nework)\n",
        "# wide & deep layer version\n",
        "\n",
        "import tensorflow.compat.v1 as tf\n",
        "tf.disable_v2_behavior()\n",
        "import numpy as np\n",
        "\n",
        "tf.set_random_seed(777)  # for reproducibility"
      ],
      "execution_count": null,
      "outputs": []
    },
    {
      "cell_type": "code",
      "metadata": {
        "id": "BSAyCTMT8cOs"
      },
      "source": [
        "x_data = np.array([[0, 0], [0, 1], [1, 0], [1, 1]], dtype=np.float32)\n",
        "y_data = np.array([[0], [1], [1], [0]], dtype=np.float32)"
      ],
      "execution_count": 2,
      "outputs": []
    },
    {
      "cell_type": "code",
      "metadata": {
        "id": "4fKYBli28oqB"
      },
      "source": [
        "X = tf.placeholder(tf.float32, [None, 2])\n",
        "Y = tf.placeholder(tf.float32, [None, 1])\n",
        "\n",
        "W1 = tf.Variable(tf.random_normal([2, 10]), name='weight1')\n",
        "b1 = tf.Variable(tf.random_normal([10]), name='bias1')\n",
        "layer1 = tf.sigmoid(tf.matmul(X, W1) + b1)\n",
        "\n",
        "W2 = tf.Variable(tf.random_normal([10, 10]), name='weight2')\n",
        "b2 = tf.Variable(tf.random_normal([10]), name='bias2')\n",
        "layer2 = tf.sigmoid(tf.matmul(layer1, W2) + b2)\n",
        "\n",
        "W3 = tf.Variable(tf.random_normal([10, 10]), name='weight3')\n",
        "b3 = tf.Variable(tf.random_normal([10]), name='bias3')\n",
        "layer3 = tf.sigmoid(tf.matmul(layer2, W3) + b3)\n",
        "\n",
        "W4 = tf.Variable(tf.random_normal([10, 1]), name='weight4')\n",
        "b4 = tf.Variable(tf.random_normal([1]), name='bias4')\n",
        "hypothesis = tf.sigmoid(tf.matmul(layer3, W4) + b4)"
      ],
      "execution_count": 3,
      "outputs": []
    },
    {
      "cell_type": "code",
      "metadata": {
        "id": "jqlUyu2H8us-"
      },
      "source": [
        "# cost/loss function\n",
        "cost = -tf.reduce_mean(Y * tf.log(hypothesis) + (1 - Y) * tf.log(1 - hypothesis))\n",
        "train = tf.train.GradientDescentOptimizer(learning_rate=0.1).minimize(cost)"
      ],
      "execution_count": 4,
      "outputs": []
    },
    {
      "cell_type": "code",
      "metadata": {
        "id": "zK9K6P-n8vXI"
      },
      "source": [
        "# Accuracy computation\n",
        "# True if hypothesis>0.5 else False\n",
        "predicted = tf.cast(hypothesis > 0.5, dtype=tf.float32)\n",
        "accuracy = tf.reduce_mean(tf.cast(tf.equal(predicted, Y), dtype=tf.float32))"
      ],
      "execution_count": 5,
      "outputs": []
    },
    {
      "cell_type": "code",
      "metadata": {
        "colab": {
          "base_uri": "https://localhost:8080/"
        },
        "id": "8XqMLMhf8xsR",
        "outputId": "0439dec5-5e87-4cf5-995b-3df7bba39ea1"
      },
      "source": [
        "# Launch graph\n",
        "with tf.Session() as sess:\n",
        "    # Initialize TensorFlow variables\n",
        "    sess.run(tf.global_variables_initializer())\n",
        "\n",
        "    for step in range(10001):\n",
        "        _, cost_val = sess.run([train, cost], feed_dict={X: x_data, Y: y_data})\n",
        "        if step % 100 == 0:\n",
        "            print(step, cost_val)\n",
        "\n",
        "    # Accuracy report\n",
        "    h, c, a = sess.run(\n",
        "        [hypothesis, predicted, accuracy], feed_dict={X: x_data, Y: y_data}\n",
        "    )\n",
        "    print(\"\\nHypothesis: \", h, \"\\nCorrect: \", c, \"\\nAccuracy: \", a)"
      ],
      "execution_count": 6,
      "outputs": [
        {
          "output_type": "stream",
          "name": "stdout",
          "text": [
            "0 0.8231934\n",
            "100 0.6919204\n",
            "200 0.68669546\n",
            "300 0.6811913\n",
            "400 0.6747199\n",
            "500 0.66632575\n",
            "600 0.65457\n",
            "700 0.6373123\n",
            "800 0.6117563\n",
            "900 0.5750294\n",
            "1000 0.5240254\n",
            "1100 0.45382565\n",
            "1200 0.3619666\n",
            "1300 0.26118594\n",
            "1400 0.1759767\n",
            "1500 0.11793029\n",
            "1600 0.08203505\n",
            "1700 0.059921436\n",
            "1800 0.045788445\n",
            "1900 0.036327194\n",
            "2000 0.029707564\n",
            "2100 0.024894018\n",
            "2200 0.021277059\n",
            "2300 0.01848301\n",
            "2400 0.016273353\n",
            "2500 0.014490725\n",
            "2600 0.013027718\n",
            "2700 0.011809198\n",
            "2800 0.010781191\n",
            "2900 0.009904026\n",
            "3000 0.009148078\n",
            "3100 0.008490823\n",
            "3200 0.0079147685\n",
            "3300 0.007406394\n",
            "3400 0.006954793\n",
            "3500 0.0065512834\n",
            "3600 0.0061888723\n",
            "3700 0.0058617983\n",
            "3800 0.005565241\n",
            "3900 0.0052953498\n",
            "4000 0.0050487006\n",
            "4100 0.004822578\n",
            "4200 0.0046146163\n",
            "4300 0.0044226767\n",
            "4400 0.004245133\n",
            "4500 0.0040804804\n",
            "4600 0.0039273044\n",
            "4700 0.0037845229\n",
            "4800 0.003651218\n",
            "4900 0.003526399\n",
            "5000 0.0034093885\n",
            "5100 0.0032994368\n",
            "5200 0.0031959424\n",
            "5300 0.0030983656\n",
            "5400 0.0030063302\n",
            "5500 0.0029191924\n",
            "5600 0.0028367708\n",
            "5700 0.0027585863\n",
            "5800 0.0026844284\n",
            "5900 0.002613863\n",
            "6000 0.0025467845\n",
            "6100 0.0024828932\n",
            "6200 0.0024219048\n",
            "6300 0.0023636993\n",
            "6400 0.0023081114\n",
            "6500 0.002254917\n",
            "6600 0.002204026\n",
            "6700 0.0021552588\n",
            "6800 0.0021084952\n",
            "6900 0.002063631\n",
            "7000 0.002020516\n",
            "7100 0.0019791352\n",
            "7200 0.0019392497\n",
            "7300 0.0019009187\n",
            "7400 0.0018639779\n",
            "7500 0.0018283973\n",
            "7600 0.001794087\n",
            "7700 0.0017609876\n",
            "7800 0.0017289938\n",
            "7900 0.001698121\n",
            "8000 0.0016682642\n",
            "8100 0.0016394234\n",
            "8200 0.0016114793\n",
            "8300 0.0015844166\n",
            "8400 0.0015582503\n",
            "8500 0.0015328759\n",
            "8600 0.0015082932\n",
            "8700 0.0014844127\n",
            "8800 0.0014612938\n",
            "8900 0.0014388323\n",
            "9000 0.001417013\n",
            "9100 0.0013958061\n",
            "9200 0.0013752116\n",
            "9300 0.0013552144\n",
            "9400 0.0013357251\n",
            "9500 0.0013168182\n",
            "9600 0.0012983591\n",
            "9700 0.001280393\n",
            "9800 0.0012629197\n",
            "9900 0.0012458944\n",
            "10000 0.0012292722\n",
            "\n",
            "Hypothesis:  [[6.9555640e-04]\n",
            " [9.9852967e-01]\n",
            " [9.9888730e-01]\n",
            " [1.6345382e-03]] \n",
            "Correct:  [[0.]\n",
            " [1.]\n",
            " [1.]\n",
            " [0.]] \n",
            "Accuracy:  1.0\n"
          ]
        }
      ]
    }
  ]
}