{
  "nbformat": 4,
  "nbformat_minor": 0,
  "metadata": {
    "colab": {
      "name": "Lab-3_2.ipynb",
      "provenance": [],
      "authorship_tag": "ABX9TyOUtmNluomGrUFvy5zRJcin",
      "include_colab_link": true
    },
    "kernelspec": {
      "name": "python3",
      "display_name": "Python 3"
    },
    "language_info": {
      "name": "python"
    }
  },
  "cells": [
    {
      "cell_type": "markdown",
      "metadata": {
        "id": "view-in-github",
        "colab_type": "text"
      },
      "source": [
        "<a href=\"https://colab.research.google.com/github/Justmin-Lee/ML_Lecture/blob/main/Lab_3_2.ipynb\" target=\"_parent\"><img src=\"https://colab.research.google.com/assets/colab-badge.svg\" alt=\"Open In Colab\"/></a>"
      ]
    },
    {
      "cell_type": "code",
      "metadata": {
        "id": "b9s8a6XZ5QTE"
      },
      "source": [
        "import tensorflow.compat.v1 as tf\n",
        "tf.disable_v2_behavior()"
      ],
      "execution_count": 7,
      "outputs": []
    },
    {
      "cell_type": "code",
      "metadata": {
        "id": "hZHtjAI95Wdu"
      },
      "source": [
        "x_data = [1, 2, 3]\n",
        "y_data = [1, 2, 3]\n",
        "\n",
        "W = tf.Variable(tf.random_normal([1]), name='weight')\n",
        "X = tf.placeholder(tf.float32)\n",
        "Y = tf.placeholder(tf.float32)"
      ],
      "execution_count": 8,
      "outputs": []
    },
    {
      "cell_type": "code",
      "metadata": {
        "id": "iwDwcBf85wI1"
      },
      "source": [
        "# Our hypothesis for linear model X * W\n",
        "hypothesis = X * W\n",
        "\n",
        "# Cost function\n",
        "cost = tf.reduce_sum(tf.square(hypothesis - Y))"
      ],
      "execution_count": 9,
      "outputs": []
    },
    {
      "cell_type": "code",
      "metadata": {
        "id": "vj--8PNa6BI0"
      },
      "source": [
        "# Minimize: Gradient Descent using derivative: W -= learning_rate * derivative\n",
        "learning_rate = 0.1\n",
        "gradient = tf.reduce_mean((W * X - Y) * X)\n",
        "descent = W - learning_rate * gradient\n",
        "update = W.assign(descent)"
      ],
      "execution_count": 14,
      "outputs": []
    },
    {
      "cell_type": "code",
      "metadata": {
        "colab": {
          "base_uri": "https://localhost:8080/"
        },
        "id": "-g2QvsSc6gL2",
        "outputId": "ba1e4266-34f8-4785-99ef-bac5d20983fa"
      },
      "source": [
        "# Launch the graph in a session.\n",
        "sess = tf.Session()\n",
        "\n",
        "# Initializes global variables in the graph.\n",
        "sess.run(tf.global_variables_initializer())\n",
        "for step in range(21):\n",
        "  sess.run(update, feed_dict={X: x_data, Y: y_data})\n",
        "  print(step, sess.run(cost, feed_dict={X: x_data, Y: y_data}), sess.run(W))"
      ],
      "execution_count": 15,
      "outputs": [
        {
          "output_type": "stream",
          "name": "stdout",
          "text": [
            "0 15.510941 [-0.05257982]\n",
            "1 4.412 [0.4386241]\n",
            "2 1.254969 [0.70059955]\n",
            "3 0.35696882 [0.84031975]\n",
            "4 0.10153785 [0.9148372]\n",
            "5 0.028881885 [0.95457983]\n",
            "6 0.008215308 [0.9757759]\n",
            "7 0.0023368143 [0.98708045]\n",
            "8 0.0006646946 [0.9931096]\n",
            "9 0.00018906221 [0.99632514]\n",
            "10 5.377941e-05 [0.9980401]\n",
            "11 1.5297112e-05 [0.9989547]\n",
            "12 4.3512096e-06 [0.9994425]\n",
            "13 1.2374884e-06 [0.9997027]\n",
            "14 3.5192613e-07 [0.99984145]\n",
            "15 1.0012023e-07 [0.9999154]\n",
            "16 2.8518446e-08 [0.9999549]\n",
            "17 8.118036e-09 [0.9999759]\n",
            "18 2.2945592e-09 [0.9999872]\n",
            "19 6.553371e-10 [0.99999315]\n",
            "20 1.8637891e-10 [0.99999636]\n"
          ]
        }
      ]
    }
  ]
}