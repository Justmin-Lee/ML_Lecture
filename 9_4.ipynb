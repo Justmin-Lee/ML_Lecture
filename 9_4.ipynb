{
  "nbformat": 4,
  "nbformat_minor": 0,
  "metadata": {
    "colab": {
      "name": "9-4.ipynb",
      "provenance": [],
      "collapsed_sections": [],
      "authorship_tag": "ABX9TyPKdi6Cqr4HR4NtbdnCJM+n",
      "include_colab_link": true
    },
    "kernelspec": {
      "name": "python3",
      "display_name": "Python 3"
    },
    "language_info": {
      "name": "python"
    }
  },
  "cells": [
    {
      "cell_type": "markdown",
      "metadata": {
        "id": "view-in-github",
        "colab_type": "text"
      },
      "source": [
        "<a href=\"https://colab.research.google.com/github/Justmin-Lee/ML_Lecture/blob/main/9_4.ipynb\" target=\"_parent\"><img src=\"https://colab.research.google.com/assets/colab-badge.svg\" alt=\"Open In Colab\"/></a>"
      ]
    },
    {
      "cell_type": "code",
      "metadata": {
        "id": "SZLHHCvD85vQ",
        "colab": {
          "base_uri": "https://localhost:8080/"
        },
        "outputId": "c67e89c9-07a7-409c-db08-43b9c78d5d74"
      },
      "source": [
        "# NOT LOG data, include Tensorboard\n",
        "\n",
        "import tensorflow.compat.v1 as tf\n",
        "tf.disable_v2_behavior()\n",
        "import numpy as np\n",
        "\n",
        "tf.set_random_seed(777)  # for reproducibility"
      ],
      "execution_count": 1,
      "outputs": [
        {
          "output_type": "stream",
          "name": "stdout",
          "text": [
            "WARNING:tensorflow:From /usr/local/lib/python3.7/dist-packages/tensorflow/python/compat/v2_compat.py:101: disable_resource_variables (from tensorflow.python.ops.variable_scope) is deprecated and will be removed in a future version.\n",
            "Instructions for updating:\n",
            "non-resource variables are not supported in the long term\n"
          ]
        }
      ]
    },
    {
      "cell_type": "code",
      "metadata": {
        "id": "_FsZqyavO1rJ"
      },
      "source": [
        "x_data = np.array([[0, 0], [0, 1], [1, 0], [1, 1]], dtype=np.float32)\n",
        "y_data = np.array([[0], [1], [1], [0]], dtype=np.float32)\n",
        "\n",
        "X = tf.placeholder(tf.float32, [None, 2], name=\"x\")\n",
        "Y = tf.placeholder(tf.float32, [None, 1], name=\"y\")"
      ],
      "execution_count": 2,
      "outputs": []
    },
    {
      "cell_type": "code",
      "metadata": {
        "id": "yCMTe29SO5P8"
      },
      "source": [
        "with tf.name_scope(\"Layer1\"):\n",
        "    W1 = tf.Variable(tf.random_normal([2, 2]), name=\"weight_1\")\n",
        "    b1 = tf.Variable(tf.random_normal([2]), name=\"bias_1\")\n",
        "    layer1 = tf.sigmoid(tf.matmul(X, W1) + b1)\n",
        "\n",
        "    tf.summary.histogram(\"W1\", W1)\n",
        "    tf.summary.histogram(\"b1\", b1)\n",
        "    tf.summary.histogram(\"Layer1\", layer1)\n",
        "\n",
        "with tf.name_scope(\"Layer2\"):\n",
        "    W2 = tf.Variable(tf.random_normal([2, 1]), name=\"weight_2\")\n",
        "    b2 = tf.Variable(tf.random_normal([1]), name=\"bias_2\")\n",
        "    hypothesis = tf.sigmoid(tf.matmul(layer1, W2) + b2)\n",
        "\n",
        "    tf.summary.histogram(\"W2\", W2)\n",
        "    tf.summary.histogram(\"b2\", b2)\n",
        "    tf.summary.histogram(\"Hypothesis\", hypothesis)"
      ],
      "execution_count": 3,
      "outputs": []
    },
    {
      "cell_type": "code",
      "metadata": {
        "id": "33PuDRJSPAjT"
      },
      "source": [
        "# cost/loss function\n",
        "with tf.name_scope(\"Cost\"):\n",
        "    cost = -tf.reduce_mean(Y * tf.log(hypothesis) + (1 - Y) * tf.log(1 - hypothesis))\n",
        "    tf.summary.scalar(\"Cost\", cost)\n",
        "\n",
        "with tf.name_scope(\"Train\"):\n",
        "    train = tf.train.AdamOptimizer(learning_rate=0.01).minimize(cost)"
      ],
      "execution_count": 4,
      "outputs": []
    },
    {
      "cell_type": "code",
      "metadata": {
        "colab": {
          "base_uri": "https://localhost:8080/"
        },
        "id": "PJRza3cdPH3P",
        "outputId": "4685e239-3421-4189-9d0a-13d53385f36d"
      },
      "source": [
        "# Accuracy computation\n",
        "# True if hypothesis>0.5 else False\n",
        "predicted = tf.cast(hypothesis > 0.5, dtype=tf.float32)\n",
        "accuracy = tf.reduce_mean(tf.cast(tf.equal(predicted, Y), dtype=tf.float32))\n",
        "tf.summary.scalar(\"accuracy\", accuracy)"
      ],
      "execution_count": 5,
      "outputs": [
        {
          "output_type": "execute_result",
          "data": {
            "text/plain": [
              "<tf.Tensor 'accuracy:0' shape=() dtype=string>"
            ]
          },
          "metadata": {},
          "execution_count": 5
        }
      ]
    },
    {
      "cell_type": "code",
      "metadata": {
        "colab": {
          "base_uri": "https://localhost:8080/"
        },
        "id": "WPwPGdwgPJkN",
        "outputId": "c27abd1c-cffe-4ff3-cd82-28b0b4b630b0"
      },
      "source": [
        "# Launch graph\n",
        "with tf.Session() as sess:\n",
        "    # tensorboard --logdir=./logs/xor_logs\n",
        "    merged_summary = tf.summary.merge_all()\n",
        "    writer = tf.summary.FileWriter(\"./logs/xor_logs_r0_01\")\n",
        "    writer.add_graph(sess.graph)  # Show the graph\n",
        "\n",
        "    # Initialize TensorFlow variables\n",
        "    sess.run(tf.global_variables_initializer())\n",
        "\n",
        "    for step in range(10001):\n",
        "        _, summary, cost_val = sess.run(\n",
        "            [train, merged_summary, cost], feed_dict={X: x_data, Y: y_data}\n",
        "        )\n",
        "        writer.add_summary(summary, global_step=step)\n",
        "\n",
        "        if step % 100 == 0:\n",
        "            print(step, cost_val)\n",
        "\n",
        "    # Accuracy report\n",
        "    h, p, a = sess.run(\n",
        "        [hypothesis, predicted, accuracy], feed_dict={X: x_data, Y: y_data}\n",
        "    )\n",
        "    \n",
        "    print(f\"\\nHypothesis:\\n{h} \\nPredicted:\\n{p} \\nAccuracy:\\n{a}\")\n"
      ],
      "execution_count": 6,
      "outputs": [
        {
          "output_type": "stream",
          "name": "stdout",
          "text": [
            "0 0.9766817\n",
            "100 0.6973129\n",
            "200 0.6837992\n",
            "300 0.65413475\n",
            "400 0.6042637\n",
            "500 0.5488609\n",
            "600 0.45194048\n",
            "700 0.3257269\n",
            "800 0.2419722\n",
            "900 0.18764955\n",
            "1000 0.15020142\n",
            "1100 0.123214826\n",
            "1200 0.10306983\n",
            "1300 0.087591805\n",
            "1400 0.0754114\n",
            "1500 0.06563174\n",
            "1600 0.057645157\n",
            "1700 0.05102716\n",
            "1800 0.045473915\n",
            "1900 0.040762793\n",
            "2000 0.036727604\n",
            "2100 0.033241946\n",
            "2200 0.030208237\n",
            "2300 0.027550017\n",
            "2400 0.025206607\n",
            "2500 0.023129517\n",
            "2600 0.021279309\n",
            "2700 0.019623753\n",
            "2800 0.01813628\n",
            "2900 0.016794859\n",
            "3000 0.015580875\n",
            "3100 0.014478824\n",
            "3200 0.013475407\n",
            "3300 0.012559286\n",
            "3400 0.0117207905\n",
            "3500 0.010951561\n",
            "3600 0.010244315\n",
            "3700 0.009592848\n",
            "3800 0.008991491\n",
            "3900 0.008435505\n",
            "4000 0.007920572\n",
            "4100 0.007442972\n",
            "4200 0.0069993488\n",
            "4300 0.006586666\n",
            "4400 0.0062023792\n",
            "4500 0.005844024\n",
            "4600 0.0055095474\n",
            "4700 0.0051969616\n",
            "4800 0.004904626\n",
            "4900 0.004630905\n",
            "5000 0.0043744356\n",
            "5100 0.004133841\n",
            "5200 0.0039080475\n",
            "5300 0.0036959655\n",
            "5400 0.0034966152\n",
            "5500 0.0033091654\n",
            "5600 0.003132682\n",
            "5700 0.0029665167\n",
            "5800 0.0028099604\n",
            "5900 0.0026623367\n",
            "6000 0.0025231484\n",
            "6100 0.0023917637\n",
            "6200 0.0022677316\n",
            "6300 0.0021505863\n",
            "6400 0.002039862\n",
            "6500 0.0019352578\n",
            "6600 0.0018363539\n",
            "6700 0.00174276\n",
            "6800 0.0016542359\n",
            "6900 0.0015704369\n",
            "7000 0.0014910781\n",
            "7100 0.0014159342\n",
            "7200 0.0013447808\n",
            "7300 0.0012773334\n",
            "7400 0.0012134118\n",
            "7500 0.0011528368\n",
            "7600 0.0010953834\n",
            "7700 0.0010408876\n",
            "7800 0.0009892288\n",
            "7900 0.0009401983\n",
            "8000 0.00089367613\n",
            "8100 0.00084952766\n",
            "8200 0.0008076184\n",
            "8300 0.00076785847\n",
            "8400 0.0007300985\n",
            "8500 0.00069423404\n",
            "8600 0.0006601602\n",
            "8700 0.00062778755\n",
            "8800 0.00059707114\n",
            "8900 0.0005678616\n",
            "9000 0.0005401291\n",
            "9100 0.0005137541\n",
            "9200 0.00048869185\n",
            "9300 0.00046491236\n",
            "9400 0.00044229638\n",
            "9500 0.00042075425\n",
            "9600 0.00040030092\n",
            "9700 0.00038086172\n",
            "9800 0.00036239185\n",
            "9900 0.0003448018\n",
            "10000 0.0003280767\n",
            "\n",
            "Hypothesis:\n",
            "[[2.4896860e-04]\n",
            " [9.9958813e-01]\n",
            " [9.9958575e-01]\n",
            " [2.3618340e-04]] \n",
            "Predicted:\n",
            "[[0.]\n",
            " [1.]\n",
            " [1.]\n",
            " [0.]] \n",
            "Accuracy:\n",
            "1.0\n"
          ]
        }
      ]
    }
  ]
}