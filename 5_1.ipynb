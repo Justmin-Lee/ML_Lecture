{
  "nbformat": 4,
  "nbformat_minor": 0,
  "metadata": {
    "colab": {
      "name": "5-1.ipynb",
      "provenance": [],
      "authorship_tag": "ABX9TyMPEBo5kp3kt8sjPrt0I1/P",
      "include_colab_link": true
    },
    "kernelspec": {
      "name": "python3",
      "display_name": "Python 3"
    },
    "language_info": {
      "name": "python"
    }
  },
  "cells": [
    {
      "cell_type": "markdown",
      "metadata": {
        "id": "view-in-github",
        "colab_type": "text"
      },
      "source": [
        "<a href=\"https://colab.research.google.com/github/Justmin-Lee/ML_Lecture/blob/main/5_1.ipynb\" target=\"_parent\"><img src=\"https://colab.research.google.com/assets/colab-badge.svg\" alt=\"Open In Colab\"/></a>"
      ]
    },
    {
      "cell_type": "code",
      "metadata": {
        "id": "d6FbgZUS6xX7"
      },
      "source": [
        "import tensorflow.compat.v1 as tf\n",
        "tf.disable_v2_behavior()\n",
        "tf.set_random_seed(777)  # for reproducibility"
      ],
      "execution_count": 11,
      "outputs": []
    },
    {
      "cell_type": "code",
      "metadata": {
        "id": "t7FYupJK7B45"
      },
      "source": [
        "x_data = [[1, 2],\n",
        "          [2, 3],\n",
        "          [3, 1],\n",
        "          [4, 3],\n",
        "          [5, 3],\n",
        "          [6, 2]]\n",
        "y_data = [[0],\n",
        "          [0],\n",
        "          [0],\n",
        "          [1],\n",
        "          [1],\n",
        "          [1]]"
      ],
      "execution_count": 12,
      "outputs": []
    },
    {
      "cell_type": "code",
      "metadata": {
        "id": "tSkO3nVq7FmI"
      },
      "source": [
        "# placeholders for a tensor that will be always fed.\n",
        "X = tf.placeholder(tf.float32, shape=[None, 2])\n",
        "Y = tf.placeholder(tf.float32, shape=[None, 1])\n",
        "\n",
        "W = tf.Variable(tf.random_normal([2, 1]), name='weight')\n",
        "b = tf.Variable(tf.random_normal([1]), name='bias')"
      ],
      "execution_count": 13,
      "outputs": []
    },
    {
      "cell_type": "code",
      "metadata": {
        "id": "gyYYJ76j7J2M"
      },
      "source": [
        "# Hypothesis using sigmoid: tf.div(1., 1. + tf.exp(tf.matmul(X, W))\n",
        "hypothesis = tf.sigmoid(tf.matmul(X, W) + b)\n",
        "\n",
        "# cost/loss function\n",
        "cost = -tf.reduce_mean(Y * tf.log(hypothesis) + (1 - Y) * tf.log(1 - hypothesis))\n",
        "\n",
        "train = tf.train.GradientDescentOptimizer(learning_rate=0.01).minimize(cost)"
      ],
      "execution_count": 14,
      "outputs": []
    },
    {
      "cell_type": "code",
      "metadata": {
        "id": "YqVL2OUA74NK"
      },
      "source": [
        "# Accuracy computation\n",
        "# True if hypothesis > 0.5 else False\n",
        "predicted = tf.cast(hypothesis > 0.5, dtype=tf.float32)\n",
        "accuracy = tf.reduce_mean(tf.cast(tf.equal(predicted, Y), dtype=tf.float32))"
      ],
      "execution_count": 15,
      "outputs": []
    },
    {
      "cell_type": "code",
      "metadata": {
        "colab": {
          "base_uri": "https://localhost:8080/"
        },
        "id": "iATk7AcR8Q6H",
        "outputId": "a1167f67-75fa-4e9b-b462-cc7da62d8109"
      },
      "source": [
        "# Launch graph\n",
        "with tf.Session() as sess:\n",
        "    # Initialize TensorFlow variables\n",
        "    sess.run(tf.global_variables_initializer())\n",
        "\n",
        "    for step in range(10001):\n",
        "        cost_val, _ = sess.run([cost, train], feed_dict={X: x_data, Y: y_data})\n",
        "        if step % 200 == 0:\n",
        "            print(step, cost_val)\n",
        "\n",
        "    # Accuracy report\n",
        "    h, c, a = sess.run([hypothesis, predicted, accuracy],\n",
        "                       feed_dict={X: x_data, Y: y_data})\n",
        "    print(\"\\nHypothesis: \", h, \"\\nCorrect (Y): \", c, \"\\nAccuracy: \", a)"
      ],
      "execution_count": 18,
      "outputs": [
        {
          "output_type": "stream",
          "name": "stdout",
          "text": [
            "0 2.2652\n",
            "200 0.7928619\n",
            "400 0.7262192\n",
            "600 0.6827717\n",
            "800 0.64972013\n",
            "1000 0.6219376\n",
            "1200 0.5971699\n",
            "1400 0.574351\n",
            "1600 0.5529481\n",
            "1800 0.5326832\n",
            "2000 0.5134047\n",
            "2200 0.49502596\n",
            "2400 0.4774922\n",
            "2600 0.46076515\n",
            "2800 0.44481394\n",
            "3000 0.42961034\n",
            "3200 0.4151272\n",
            "3400 0.40133706\n",
            "3600 0.38821182\n",
            "3800 0.3757232\n",
            "4000 0.36384222\n",
            "4200 0.3525404\n",
            "4400 0.34178904\n",
            "4600 0.33156034\n",
            "4800 0.32182685\n",
            "5000 0.31256214\n",
            "5200 0.30374062\n",
            "5400 0.2953379\n",
            "5600 0.28733054\n",
            "5800 0.2796964\n",
            "6000 0.27241433\n",
            "6200 0.26546445\n",
            "6400 0.25882787\n",
            "6600 0.2524868\n",
            "6800 0.24642454\n",
            "7000 0.24062528\n",
            "7200 0.23507427\n",
            "7400 0.22975765\n",
            "7600 0.22466235\n",
            "7800 0.21977623\n",
            "8000 0.21508777\n",
            "8200 0.21058638\n",
            "8400 0.20626193\n",
            "8600 0.20210497\n",
            "8800 0.19810666\n",
            "9000 0.19425881\n",
            "9200 0.19055344\n",
            "9400 0.18698351\n",
            "9600 0.18354195\n",
            "9800 0.1802225\n",
            "10000 0.177019\n",
            "\n",
            "Hypothesis:  [[0.04310569]\n",
            " [0.17282581]\n",
            " [0.35945284]\n",
            " [0.7574355 ]\n",
            " [0.92349946]\n",
            " [0.9749367 ]] \n",
            "Correct (Y):  [[0.]\n",
            " [0.]\n",
            " [0.]\n",
            " [1.]\n",
            " [1.]\n",
            " [1.]] \n",
            "Accuracy:  1.0\n"
          ]
        }
      ]
    }
  ]
}