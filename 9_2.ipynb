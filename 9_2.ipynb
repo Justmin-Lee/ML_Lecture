{
  "nbformat": 4,
  "nbformat_minor": 0,
  "metadata": {
    "colab": {
      "name": "9-2.ipynb",
      "provenance": [],
      "collapsed_sections": [],
      "authorship_tag": "ABX9TyNu9OIb8xaDfwQY5c40UsVE",
      "include_colab_link": true
    },
    "kernelspec": {
      "name": "python3",
      "display_name": "Python 3"
    },
    "language_info": {
      "name": "python"
    }
  },
  "cells": [
    {
      "cell_type": "markdown",
      "metadata": {
        "id": "view-in-github",
        "colab_type": "text"
      },
      "source": [
        "<a href=\"https://colab.research.google.com/github/Justmin-Lee/ML_Lecture/blob/main/9_2.ipynb\" target=\"_parent\"><img src=\"https://colab.research.google.com/assets/colab-badge.svg\" alt=\"Open In Colab\"/></a>"
      ]
    },
    {
      "cell_type": "code",
      "metadata": {
        "id": "GopzO_q756zM"
      },
      "source": [
        "# include hidden layer (Neural Nework)\n",
        "\n",
        "import tensorflow.compat.v1 as tf\n",
        "tf.disable_v2_behavior()\n",
        "import numpy as np\n",
        "\n",
        "tf.set_random_seed(777)  # for reproducibility"
      ],
      "execution_count": null,
      "outputs": []
    },
    {
      "cell_type": "code",
      "metadata": {
        "id": "eKymEpu36LqK"
      },
      "source": [
        "x_data = np.array([[0, 0], [0, 1], [1, 0], [1, 1]], dtype=np.float32)\n",
        "y_data = np.array([[0], [1], [1], [0]], dtype=np.float32)"
      ],
      "execution_count": 2,
      "outputs": []
    },
    {
      "cell_type": "code",
      "metadata": {
        "id": "pQk9gIAA6OnN"
      },
      "source": [
        "X = tf.placeholder(tf.float32, [None, 2])\n",
        "Y = tf.placeholder(tf.float32, [None, 1])\n",
        "\n",
        "W1 = tf.Variable(tf.random_normal([2, 2]), name='weight1')\n",
        "b1 = tf.Variable(tf.random_normal([2]), name='bias1')\n",
        "layer1 = tf.sigmoid(tf.matmul(X, W1) + b1)\n",
        "\n",
        "W2 = tf.Variable(tf.random_normal([2, 1]), name='weight2')\n",
        "b2 = tf.Variable(tf.random_normal([1]), name='bias2')\n",
        "hypothesis = tf.sigmoid(tf.matmul(layer1, W2) + b2)"
      ],
      "execution_count": 3,
      "outputs": []
    },
    {
      "cell_type": "code",
      "metadata": {
        "id": "xiDMkqEG6xRx"
      },
      "source": [
        "# Cost/loss function\n",
        "cost = -tf.reduce_mean(Y * tf.log(hypothesis) + (1 - Y) * tf.log(1 - hypothesis))\n",
        "train = tf.train.GradientDescentOptimizer(learning_rate=0.1).minimize(cost)"
      ],
      "execution_count": 4,
      "outputs": []
    },
    {
      "cell_type": "code",
      "metadata": {
        "id": "G3j3W8j-7GzF"
      },
      "source": [
        "# Accuracy computation\n",
        "# True if hypothesis>0.5 else False\n",
        "predicted = tf.cast(hypothesis > 0.5, dtype=tf.float32)\n",
        "accuracy = tf.reduce_mean(tf.cast(tf.equal(predicted, Y), dtype=tf.float32))"
      ],
      "execution_count": 5,
      "outputs": []
    },
    {
      "cell_type": "code",
      "metadata": {
        "colab": {
          "base_uri": "https://localhost:8080/"
        },
        "id": "cONIJqtt7KQ9",
        "outputId": "d4e59b24-9d40-4694-dddf-553e2caa2ad0"
      },
      "source": [
        "# Launch graph\n",
        "with tf.Session() as sess:\n",
        "    # Initialize TensorFlow variables\n",
        "    sess.run(tf.global_variables_initializer())\n",
        "\n",
        "    for step in range(10001):\n",
        "        _, cost_val = sess.run([train, cost], feed_dict={X: x_data, Y: y_data})\n",
        "        if step % 100 == 0:\n",
        "            print(step, cost_val)\n",
        "\n",
        "    # Accuracy report\n",
        "    h, p, a = sess.run(\n",
        "        [hypothesis, predicted, accuracy], feed_dict={X: x_data, Y: y_data}\n",
        "    )\n",
        "    \n",
        "    print(f\"\\nHypothesis:\\n{h} \\nPredicted:\\n{p} \\nAccuracy:\\n{a}\")"
      ],
      "execution_count": 6,
      "outputs": [
        {
          "output_type": "stream",
          "name": "stdout",
          "text": [
            "0 0.9766817\n",
            "100 0.69698393\n",
            "200 0.69477135\n",
            "300 0.69337285\n",
            "400 0.6923421\n",
            "500 0.69149464\n",
            "600 0.69071734\n",
            "700 0.6899319\n",
            "800 0.6890757\n",
            "900 0.6880908\n",
            "1000 0.6869173\n",
            "1100 0.6854893\n",
            "1200 0.683732\n",
            "1300 0.68155986\n",
            "1400 0.6788755\n",
            "1500 0.6755705\n",
            "1600 0.67152745\n",
            "1700 0.66662717\n",
            "1800 0.66076124\n",
            "1900 0.6538513\n",
            "2000 0.6458726\n",
            "2100 0.6368735\n",
            "2200 0.6269827\n",
            "2300 0.6163973\n",
            "2400 0.60535514\n",
            "2500 0.59409916\n",
            "2600 0.5828458\n",
            "2700 0.5717672\n",
            "2800 0.5609853\n",
            "2900 0.5505786\n",
            "3000 0.5405919\n",
            "3100 0.53104854\n",
            "3200 0.52195835\n",
            "3300 0.51332355\n",
            "3400 0.5051418\n",
            "3500 0.49740738\n",
            "3600 0.49011168\n",
            "3700 0.48324305\n",
            "3800 0.47678715\n",
            "3900 0.47072747\n",
            "4000 0.46504524\n",
            "4100 0.45972034\n",
            "4200 0.4547322\n",
            "4300 0.45005974\n",
            "4400 0.44568223\n",
            "4500 0.4415793\n",
            "4600 0.43773144\n",
            "4700 0.4341199\n",
            "4800 0.43072724\n",
            "4900 0.42753658\n",
            "5000 0.4245325\n",
            "5100 0.42170042\n",
            "5200 0.41902667\n",
            "5300 0.41649857\n",
            "5400 0.4141042\n",
            "5500 0.41183227\n",
            "5600 0.40967223\n",
            "5700 0.40761396\n",
            "5800 0.40564764\n",
            "5900 0.40376374\n",
            "6000 0.4019527\n",
            "6100 0.40020514\n",
            "6200 0.39851102\n",
            "6300 0.39685968\n",
            "6400 0.39523953\n",
            "6500 0.39363718\n",
            "6600 0.39203727\n",
            "6700 0.39042065\n",
            "6800 0.38876352\n",
            "6900 0.38703474\n",
            "7000 0.38519275\n",
            "7100 0.3831797\n",
            "7200 0.3809127\n",
            "7300 0.37826836\n",
            "7400 0.3750576\n",
            "7500 0.37097636\n",
            "7600 0.36551517\n",
            "7700 0.3577829\n",
            "7800 0.34617978\n",
            "7900 0.32795152\n",
            "8000 0.29955688\n",
            "8100 0.2608277\n",
            "8200 0.21988013\n",
            "8300 0.18547103\n",
            "8400 0.15946244\n",
            "8500 0.14015299\n",
            "8600 0.12557647\n",
            "8700 0.11427674\n",
            "8800 0.10527059\n",
            "8900 0.09790466\n",
            "9000 0.09174106\n",
            "9100 0.086481534\n",
            "9200 0.081918724\n",
            "9300 0.07790503\n",
            "9400 0.074333474\n",
            "9500 0.07112436\n",
            "9600 0.068217404\n",
            "9700 0.06556594\n",
            "9800 0.06313334\n",
            "9900 0.060890112\n",
            "10000 0.05881253\n",
            "\n",
            "Hypothesis:\n",
            "[[0.05478776]\n",
            " [0.9434904 ]\n",
            " [0.92528784]\n",
            " [0.04209319]] \n",
            "Predicted:\n",
            "[[0.]\n",
            " [1.]\n",
            " [1.]\n",
            " [0.]] \n",
            "Accuracy:\n",
            "1.0\n"
          ]
        }
      ]
    }
  ]
}