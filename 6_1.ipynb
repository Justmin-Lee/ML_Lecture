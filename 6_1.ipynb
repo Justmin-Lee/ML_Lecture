{
  "nbformat": 4,
  "nbformat_minor": 0,
  "metadata": {
    "colab": {
      "name": "6-1.ipynb",
      "provenance": [],
      "collapsed_sections": [],
      "authorship_tag": "ABX9TyPWZbMf2qEvQlTrPOJJUi61",
      "include_colab_link": true
    },
    "kernelspec": {
      "name": "python3",
      "display_name": "Python 3"
    },
    "language_info": {
      "name": "python"
    }
  },
  "cells": [
    {
      "cell_type": "markdown",
      "metadata": {
        "id": "view-in-github",
        "colab_type": "text"
      },
      "source": [
        "<a href=\"https://colab.research.google.com/github/Justmin-Lee/ML_Lecture/blob/main/6_1.ipynb\" target=\"_parent\"><img src=\"https://colab.research.google.com/assets/colab-badge.svg\" alt=\"Open In Colab\"/></a>"
      ]
    },
    {
      "cell_type": "code",
      "metadata": {
        "id": "yRUg9k9KG71B"
      },
      "source": [
        "import tensorflow.compat.v1 as tf\n",
        "tf.disable_v2_behavior()\n",
        "tf.set_random_seed(777)  # for reproducibility"
      ],
      "execution_count": null,
      "outputs": []
    },
    {
      "cell_type": "code",
      "metadata": {
        "id": "GANIlUc3Mila"
      },
      "source": [
        "x_data = [[1, 2, 1, 1],\n",
        "          [2, 1, 3, 2],\n",
        "          [3, 1, 3, 4],\n",
        "          [4, 1, 5, 5],\n",
        "          [1, 7, 5, 5],\n",
        "          [1, 2, 5, 6],\n",
        "          [1, 6, 6, 6],\n",
        "          [1, 7, 7, 7]]\n",
        "y_data = [[0, 0, 1],\n",
        "          [0, 0, 1],\n",
        "          [0, 0, 1],\n",
        "          [0, 1, 0],\n",
        "          [0, 1, 0],\n",
        "          [0, 1, 0],\n",
        "          [1, 0, 0],\n",
        "          [1, 0, 0]]"
      ],
      "execution_count": 2,
      "outputs": []
    },
    {
      "cell_type": "code",
      "metadata": {
        "id": "4_f1nGAAMlQI"
      },
      "source": [
        "# placeholders for a tensor that will be always fed.\n",
        "X = tf.placeholder(\"float\", [None, 4])\n",
        "Y = tf.placeholder(\"float\", [None, 3])\n",
        "nb_classes = 3\n",
        "\n",
        "W = tf.Variable(tf.random_normal([4, nb_classes]), name='weight')\n",
        "b = tf.Variable(tf.random_normal([nb_classes]), name='bias')"
      ],
      "execution_count": 3,
      "outputs": []
    },
    {
      "cell_type": "code",
      "metadata": {
        "id": "kxDxkkCMM9dt"
      },
      "source": [
        "# tf.nn.softmax computes softmax activations\n",
        "# softmax = exp(logits) / reduce_sum(exp(logits), dim)\n",
        "hypothesis = tf.nn.softmax(tf.matmul(X, W) + b)\n",
        "\n",
        "# Cross entropy cost/loss\n",
        "cost = tf.reduce_mean(-tf.reduce_sum(Y * tf.log(hypothesis), axis=1))\n",
        "\n",
        "optimizer = tf.train.GradientDescentOptimizer(learning_rate=0.1).minimize(cost)"
      ],
      "execution_count": 5,
      "outputs": []
    },
    {
      "cell_type": "code",
      "metadata": {
        "colab": {
          "base_uri": "https://localhost:8080/"
        },
        "id": "OhjyCARkNdOT",
        "outputId": "06b46f46-020c-4805-974c-fb9f6743deb4"
      },
      "source": [
        "# Launch graph\n",
        "with tf.Session() as sess:\n",
        "    sess.run(tf.global_variables_initializer())\n",
        "\n",
        "    for step in range(2001):\n",
        "            _, cost_val = sess.run([optimizer, cost], feed_dict={X: x_data, Y: y_data})\n",
        "\n",
        "            if step % 200 == 0:\n",
        "                print(step, cost_val)\n",
        "\n",
        "    print('--------------')\n",
        "    # Testing & One-hot encoding\n",
        "    a = sess.run(hypothesis, feed_dict={X: [[1, 11, 7, 9]]})\n",
        "    print(a, sess.run(tf.argmax(a, 1)))\n",
        "\n",
        "    print('--------------')\n",
        "    b = sess.run(hypothesis, feed_dict={X: [[1, 3, 4, 3]]})\n",
        "    print(b, sess.run(tf.argmax(b, 1)))\n",
        "\n",
        "    print('--------------')\n",
        "    c = sess.run(hypothesis, feed_dict={X: [[1, 1, 0, 1]]})\n",
        "    print(c, sess.run(tf.argmax(c, 1)))\n",
        "\n",
        "    print('--------------')\n",
        "    all = sess.run(hypothesis, feed_dict={X: [[1, 11, 7, 9], [1, 3, 4, 3], [1, 1, 0, 1]]})\n",
        "    print(all, sess.run(tf.argmax(all, 1)))\n"
      ],
      "execution_count": 6,
      "outputs": [
        {
          "output_type": "stream",
          "name": "stdout",
          "text": [
            "0 3.9307914\n",
            "200 0.49251726\n",
            "400 0.38279027\n",
            "600 0.28668967\n",
            "800 0.23393735\n",
            "1000 0.21145627\n",
            "1200 0.19295461\n",
            "1400 0.17741008\n",
            "1600 0.16414917\n",
            "1800 0.15269807\n",
            "2000 0.14270976\n",
            "--------------\n",
            "[[2.6234915e-03 9.9736708e-01 9.3491481e-06]] [1]\n",
            "--------------\n",
            "[[0.88711405 0.09701869 0.01586726]] [0]\n",
            "--------------\n",
            "[[5.4152416e-09 2.7104167e-04 9.9972898e-01]] [2]\n",
            "--------------\n",
            "[[2.6234915e-03 9.9736708e-01 9.3491481e-06]\n",
            " [8.8711405e-01 9.7018667e-02 1.5867241e-02]\n",
            " [5.4152416e-09 2.7104167e-04 9.9972898e-01]] [1 0 2]\n"
          ]
        }
      ]
    }
  ]
}